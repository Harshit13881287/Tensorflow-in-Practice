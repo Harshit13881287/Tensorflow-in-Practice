{
 "cells": [
  {
   "cell_type": "markdown",
   "metadata": {
    "colab_type": "text",
    "id": "iQjHqsmTAVLU"
   },
   "source": [
    "## Exercise 3\n",
    "In the videos you looked at how you would improve Fashion MNIST using Convolutions. For your exercise see if you can improve MNIST to 99.8% accuracy or more using only a single convolutional layer and a single MaxPooling 2D. You should stop training once the accuracy goes above this amount. It should happen in less than 20 epochs, so it's ok to hard code the number of epochs for training, but your training must end once it hits the above metric. If it doesn't, then you'll need to redesign your layers.\n",
    "\n",
    "I've started the code for you -- you need to finish it!\n",
    "\n",
    "When 99.8% accuracy has been hit, you should print out the string \"Reached 99.8% accuracy so cancelling training!\"\n"
   ]
  },
  {
   "cell_type": "code",
   "execution_count": 1,
   "metadata": {},
   "outputs": [],
   "source": [
    "import tensorflow as tf\n",
    "from os import path, getcwd, chdir\n",
    "\n",
    "# DO NOT CHANGE THE LINE BELOW. If you are developing in a local\n",
    "# environment, then grab mnist.npz from the Coursera Jupyter Notebook\n",
    "# and place it inside a local folder and edit the path to that location\n",
    "path = f\"{getcwd()}/../tmp2/mnist.npz\""
   ]
  },
  {
   "cell_type": "code",
   "execution_count": 2,
   "metadata": {},
   "outputs": [],
   "source": [
    "config = tf.ConfigProto()\n",
    "config.gpu_options.allow_growth = True\n",
    "sess = tf.Session(config=config)"
   ]
  },
  {
   "cell_type": "code",
   "execution_count": 5,
   "metadata": {},
   "outputs": [],
   "source": [
    "class myCallback(tf.keras.callbacks.Callback):\n",
    "    def on_epoch_end(self, epoch, logs={}):\n",
    "        if(logs.get('acc') > 0.998):\n",
    "            print(\"Reached 99.8% accuracy so cancelling trining!\")\n",
    "            self.model.stop_training = True\n"
   ]
  },
  {
   "cell_type": "code",
   "execution_count": 6,
   "metadata": {},
   "outputs": [],
   "source": [
    "# GRADED FUNCTION: train_mnist_conv\n",
    "def train_mnist_conv():\n",
    "    # Please write your code only where you are indicated.\n",
    "    # please do not remove model fitting inline comments.\n",
    "\n",
    "    # YOUR CODE STARTS HERE\n",
    "    \n",
    "    # YOUR CODE ENDS HERE\n",
    "\n",
    "    mnist = tf.keras.datasets.mnist\n",
    "    (training_images, training_labels), (test_images, test_labels) = mnist.load_data(path=path)\n",
    "    # YOUR CODE STARTS HERE\n",
    "    training_images = training_images.reshape(60000,28,28,1)\n",
    "    training_images  = training_images/255.0\n",
    "    test_images = test_images.reshape(10000,28,28,1)\n",
    "    test_images = test_images/255.0\n",
    "    # YOUR CODE ENDS HERE\n",
    "\n",
    "    model = tf.keras.models.Sequential()\n",
    "    model.add(tf.keras.layers.Conv2D(64,(3,3) , activation =tf.nn.relu ,input_shape = (28,28,1)))\n",
    "    model.add(tf.keras.layers.MaxPooling2D())\n",
    "    model.add(tf.keras.layers.Flatten())\n",
    "    model.add(tf.keras.layers.Dense(64 , activation = tf.nn.relu))\n",
    "    model.add(tf.keras.layers.Dense(32 , activation = tf.nn.relu))\n",
    "    model.add(tf.keras.layers.Dense(10,activation=tf.nn.softmax))\n",
    "    callbacks = myCallback()\n",
    "    model.compile(optimizer='adam', loss='sparse_categorical_crossentropy', metrics=['accuracy'])\n",
    "    # model fitting\n",
    "    history = model.fit(\n",
    "        # YOUR CODE STARTS HERE\n",
    "        training_images,training_labels,epochs=20 , callbacks = [callbacks]\n",
    "        # YOUR CODE ENDS HERE\n",
    "    )\n",
    "    # model fitting\n",
    "    return history.epoch, history.history['acc'][-1]\n",
    "\n"
   ]
  },
  {
   "cell_type": "code",
   "execution_count": 7,
   "metadata": {},
   "outputs": [
    {
     "name": "stdout",
     "output_type": "stream",
     "text": [
      "Epoch 1/20\n",
      "60000/60000 [==============================] - 21s 347us/sample - loss: 0.1814 - acc: 0.9450\n",
      "Epoch 2/20\n",
      "60000/60000 [==============================] - 17s 282us/sample - loss: 0.0598 - acc: 0.9823\n",
      "Epoch 3/20\n",
      "60000/60000 [==============================] - 17s 282us/sample - loss: 0.0410 - acc: 0.9876\n",
      "Epoch 4/20\n",
      "60000/60000 [==============================] - 17s 287us/sample - loss: 0.0297 - acc: 0.9904\n",
      "Epoch 5/20\n",
      "60000/60000 [==============================] - 17s 285us/sample - loss: 0.0215 - acc: 0.9932\n",
      "Epoch 6/20\n",
      "60000/60000 [==============================] - 17s 283us/sample - loss: 0.0157 - acc: 0.9950\n",
      "Epoch 7/20\n",
      "60000/60000 [==============================] - 17s 282us/sample - loss: 0.0129 - acc: 0.9955\n",
      "Epoch 8/20\n",
      "60000/60000 [==============================] - 17s 283us/sample - loss: 0.0106 - acc: 0.9965\n",
      "Epoch 9/20\n",
      "60000/60000 [==============================] - 17s 285us/sample - loss: 0.0080 - acc: 0.9974\n",
      "Epoch 10/20\n",
      "60000/60000 [==============================] - 17s 280us/sample - loss: 0.0077 - acc: 0.9978\n",
      "Epoch 11/20\n",
      "60000/60000 [==============================] - 17s 282us/sample - loss: 0.0067 - acc: 0.9977\n",
      "Epoch 12/20\n",
      "59968/60000 [============================>.] - ETA: 0s - loss: 0.0056 - acc: 0.9981Reached 99.8% accuracy so cancelling trining!\n",
      "60000/60000 [==============================] - 17s 282us/sample - loss: 0.0056 - acc: 0.9981\n"
     ]
    }
   ],
   "source": [
    "_, _ = train_mnist_conv()"
   ]
  },
  {
   "cell_type": "code",
   "execution_count": 8,
   "metadata": {},
   "outputs": [],
   "source": [
    "# Now click the 'Submit Assignment' button above.\n",
    "# Once that is complete, please run the following two cells to save your work and close the notebook"
   ]
  },
  {
   "cell_type": "code",
   "execution_count": null,
   "metadata": {},
   "outputs": [],
   "source": [
    "%%javascript\n",
    "<!-- Save the notebook -->\n",
    "IPython.notebook.save_checkpoint();"
   ]
  },
  {
   "cell_type": "code",
   "execution_count": null,
   "metadata": {},
   "outputs": [],
   "source": [
    "%%javascript\n",
    "<!-- Shutdown and close the notebook -->\n",
    "window.onbeforeunload = null\n",
    "window.close();\n",
    "IPython.notebook.session.delete();"
   ]
  }
 ],
 "metadata": {
  "coursera": {
   "course_slug": "introduction-tensorflow",
   "graded_item_id": "ml06H",
   "launcher_item_id": "hQF8A"
  },
  "kernelspec": {
   "display_name": "Python 3",
   "language": "python",
   "name": "python3"
  },
  "language_info": {
   "codemirror_mode": {
    "name": "ipython",
    "version": 3
   },
   "file_extension": ".py",
   "mimetype": "text/x-python",
   "name": "python",
   "nbconvert_exporter": "python",
   "pygments_lexer": "ipython3",
   "version": "3.6.8"
  }
 },
 "nbformat": 4,
 "nbformat_minor": 1
}
